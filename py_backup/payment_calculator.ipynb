{
 "cells": [
  {
   "cell_type": "code",
   "execution_count": 65,
   "metadata": {},
   "outputs": [
    {
     "name": "stdout",
     "output_type": "stream",
     "text": [
      "约定房租分别为： {'myl': 660, 'szx': 650, 'xb': 650} ；房租总计： 1960\n",
      "消费明细： {'大中华': 32.23, '百佳': 15.11, 'Costco': 47.28, '电费': 120.4, '实际房租共付': 2062.95} \n",
      "消费总计： 2277.97\n",
      "\n",
      "大厨需付： 765.9899999999999\n",
      "小宋需付 755.9899999999999\n",
      "夏斌需付 755.9899999999999\n",
      "共需付： 2277.97\n"
     ]
    }
   ],
   "source": [
    "rents = {'myl': 660,\n",
    "         'szx': 650,\n",
    "         'xb': 650}\n",
    "Rent = sum(rents.values())\n",
    "print('约定房租分别为：', rents, '；房租总计：',Rent)\n",
    "########################################################\n",
    "expenses = {\n",
    "    '大中华': 32.23,\n",
    "    '百佳': 15.11,\n",
    "    'Costco': 47.28,\n",
    "    '电费': 120.40,\n",
    "    '实际房租共付': 2062.95}\n",
    "total_paid = sum(expenses.values())\n",
    "print('消费明细：', expenses, '\\n消费总计：', total_paid)\n",
    "########################################################\n",
    "myl_pay = 10 + (total_paid-10)/3\n",
    "szx_pay = (total_paid-10)/3\n",
    "xb_pay = (total_paid-10)/3\n",
    "total_pay = myl_pay + szx_pay + xb_pay\n",
    "print('\\n大厨需付：', myl_pay)\n",
    "print('小宋需付', szx_pay)\n",
    "print('夏斌需付', xb_pay)\n",
    "print('共需付：', total_pay)"
   ]
  }
 ],
 "metadata": {
  "kernelspec": {
   "display_name": "Python 3 (ipykernel)",
   "language": "python",
   "name": "python3"
  },
  "language_info": {
   "codemirror_mode": {
    "name": "ipython",
    "version": 3
   },
   "file_extension": ".py",
   "mimetype": "text/x-python",
   "name": "python",
   "nbconvert_exporter": "python",
   "pygments_lexer": "ipython3",
   "version": "3.8.10"
  },
  "vscode": {
   "interpreter": {
    "hash": "916dbcbb3f70747c44a77c7bcd40155683ae19c65e1c03b4aa3499c5328201f1"
   }
  }
 },
 "nbformat": 4,
 "nbformat_minor": 2
}
